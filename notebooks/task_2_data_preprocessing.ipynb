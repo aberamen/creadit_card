{
 "cells": [
  {
   "cell_type": "code",
   "execution_count": null,
   "metadata": {},
   "outputs": [],
   "source": [
    "import pandas as pd\n",
    "from src.data_processing.data_preprocessing import DataPreprocessor\n",
    "\n",
    "# Load data\n",
    "data = pd.read_csv('data/credit_data.csv')\n",
    "\n",
    "# Analyze the data\n",
    "print(\"Missing values per column:\")\n",
    "print(data.isnull().sum())\n",
    "\n",
    "# Separate features and target\n",
    "target = 'default_risk'\n",
    "features = data.drop(columns=[target])\n",
    "labels = data[target]\n",
    "\n",
    "# Identify numerical and categorical columns\n",
    "numerical_cols = features.select_dtypes(include=['int64', 'float64']).columns.tolist()\n",
    "categorical_cols = features.select_dtypes(include=['object', 'category']).columns.tolist()\n",
    "\n",
    "# Initialize and create preprocessing pipeline\n",
    "preprocessor = DataPreprocessor()\n",
    "preprocessor.create_pipeline(numerical_cols=numerical_cols, categorical_cols=categorical_cols)\n",
    "\n",
    "# Apply preprocessing\n",
    "processed_data = preprocessor.fit_transform(features)\n",
    "\n",
    "print(\"Processed data shape:\", processed_data.shape)\n"
   ]
  }
 ],
 "metadata": {
  "language_info": {
   "name": "python"
  }
 },
 "nbformat": 4,
 "nbformat_minor": 2
}
