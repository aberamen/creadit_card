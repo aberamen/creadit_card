{
 "cells": [
  {
   "cell_type": "code",
   "execution_count": null,
   "metadata": {},
   "outputs": [],
   "source": [
    "import pandas as pd\n",
    "from src.ab_testing.hypothesis_testing import HypothesisTester\n",
    "\n",
    "# Load data\n",
    "data = pd.read_csv(\"data/insurance_data.csv\")\n",
    "\n",
    "# Example: Chi-squared test\n",
    "tester = HypothesisTester()\n",
    "chi2_result = tester.chi_squared_test(data, 'province', 'risk_category')\n",
    "print(\"Chi-Squared Test Result:\", chi2_result)\n",
    "\n",
    "# Example: T-test\n",
    "group1 = data[data['province'] == 'Province A']['profit']\n",
    "group2 = data[data['province'] == 'Province B']['profit']\n",
    "t_test_result = tester.t_test(group1, group2)\n",
    "print(\"T-Test Result:\", t_test_result)\n"
   ]
  }
 ],
 "metadata": {
  "language_info": {
   "name": "python"
  }
 },
 "nbformat": 4,
 "nbformat_minor": 2
}
